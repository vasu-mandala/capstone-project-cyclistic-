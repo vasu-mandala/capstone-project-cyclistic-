{
 "cells": [
  {
   "cell_type": "markdown",
   "id": "f52e6fd8",
   "metadata": {},
   "source": [
    "# Ask"
   ]
  },
  {
   "cell_type": "markdown",
   "id": "544186dc",
   "metadata": {},
   "source": [
    "Cyclistic has 3 flexible pricing plans: single-ride passes, full-day passes, and annual memberships. Customers who purchase single-ride or full-day passes are referred to as casual riders. Customers who purchase annual memberships are Cyclistic members. Cyclistic’s finance analysts have concluded that **annual members are much more profitable than casual riders**.\n",
    "\n",
    "**A clear statement of the business task:**\n",
    "\n",
    "In order to increase revenue, the company wants to come up with a new marketing strategy to convert casual riders into annual members.\n",
    "\n",
    "**The Director of Marketing Lily Moreno has set a clear goal:**\n",
    "\n",
    "Design marketing strategies aimed at converting casual riders into annual members.\n",
    "Based on this goal, I need to answer Moreno's question for future marketing program planning:\n",
    "\n",
    "**How do annual members and casual riders use Cyclistic bikes differently?**\n",
    "\n",
    "Therefore, I am tasked with analysing bike usage data to understand how casual riders and annual members use Cyclistic bikes differently, to help create a data driven marketing strategy."
   ]
  }
 ],
 "metadata": {
  "kernelspec": {
   "display_name": "Python 3 (ipykernel)",
   "language": "python",
   "name": "python3"
  },
  "language_info": {
   "codemirror_mode": {
    "name": "ipython",
    "version": 3
   },
   "file_extension": ".py",
   "mimetype": "text/x-python",
   "name": "python",
   "nbconvert_exporter": "python",
   "pygments_lexer": "ipython3",
   "version": "3.9.12"
  }
 },
 "nbformat": 4,
 "nbformat_minor": 5
}
