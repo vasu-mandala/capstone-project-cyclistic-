{
 "cells": [
  {
   "cell_type": "markdown",
   "id": "bbc3cab8",
   "metadata": {},
   "source": [
    "# Share & Act"
   ]
  },
  {
   "cell_type": "markdown",
   "id": "cc2976fe",
   "metadata": {},
   "source": [
    "## Observations\n",
    "### member riders vs casual riders"
   ]
  },
  {
   "cell_type": "markdown",
   "id": "5d1777d0",
   "metadata": {},
   "source": [
    "**According to the analysis we have made before**\n",
    "- The population of the annual members is more than the casual riders, with 50.7% of the total riders in the last 12 months.\n",
    "\n",
    "- As an average in 12 months, annual members seem to start their journey from early morning 5 am and increase throughout the day to hit the peak at9 am and 6 pm. This trend might be because most of the members use their bikes to commute to their work. As the typical corporate day starts at 9 am and ends around 6 pm, there is a peak at those hours.\n",
    "\n",
    "- But there is only one peak for casual members and that is at 6 pm everyday. This means that casual riders use bikes to maybe travel after work either to their home or to any other place.\n",
    "\n",
    "- Also, as the day progresses, the casual riders start their journey for maybe recreational activities.\n",
    "\n",
    "- If we scrutinize the start hour per day of the week, we find that the annual members are not as active on the weekends as they are on the weekdays. In contrast, casual riders are more active on the weekends. This trend proves that members usually use their bikes to commute to work.\n",
    "\n",
    "- When the riding time of casuals and members is compared, causal riders have higher riding time than members. This trend again proves that members use bikes to work and park, reducing their riding time.\n",
    "\n",
    "- Another proof that members have a fixed route and use bikes for the same reason throughout the weekdays is when we plot the riding time against each day.\n",
    "\n",
    "- The percentage of riders that own a bike is highest in June, July, August, and September. We can assume this rise due to the season (Summer to Fall transition)\n",
    "\n",
    "- We can also observe a trend with a similar reason (due to the season of the year) that is the number of bikes owned is few in the peak winter season, that is, the months of November, December, January, and February.\n",
    "\n",
    "- It is decisive that across the months October to April, the members were more in percent than casuals.\n",
    "\n",
    "- Among the top 10 stations used, Streeter Dr & Grand Ave station is the most used when seen as by both casual and member riders."
   ]
  },
  {
   "cell_type": "markdown",
   "id": "0214fa74",
   "metadata": {},
   "source": [
    "## Actions required to convert casual members to annual members"
   ]
  },
  {
   "cell_type": "markdown",
   "id": "b77dbf61",
   "metadata": {},
   "source": [
    "- Casual riders prefer to use Cyclistic bikes on the weekends where the number of users are almost twice as much as users in the middle of the week.\n",
    "    - Develop a weekend membership plan whereby rides on the weekends are included in the base price while members have the option to book weekday rides at a lower rate.\n",
    "- Bicycles in tourist areas i.e, top 10 stations used by casual riders are more likely to be used by casual riders than members.\n",
    "    - Develop partnerships with the Chicago tourism department or businesses at these locations to offer promotions for Cyclistic members.\n",
    "    - Produce advertisements targeting users who frequent stations located in tourist areas.\n",
    "- Casual riders prefer to take longer trips averaging 32.09 minutes per trip compared to members who average only 13.71 minutes.\n",
    "    - Use this statistic to show casual riders how they could save more money in the long run by becoming a member instead of paying for rides based on trip duration.\n",
    "    - Introduce a member only rewards program based on trip duration to incentivize casual riders to sign up as members and be eligible for the rewards.\n",
    "- No. of casual riders are more in number in the months from May to September\n",
    "    - Introduce new offers for annual membership in these months in order to grab attention of casual riders in these months.\n",
    "    - Increasing the number of bikes' availability over the period of these months.\n",
    "- Design campaign to promote the usage of bikes regularly by highliting the health and environmental beneficts by creating a mobile application which can show the calories burnt and carbon emmission reduction.\n",
    "    - Add a reward system once a certain level is reached. This will encourage memberships."
   ]
  },
  {
   "cell_type": "markdown",
   "id": "2d8432f2",
   "metadata": {},
   "source": [
    "## Conclusion"
   ]
  },
  {
   "cell_type": "markdown",
   "id": "9fea6232",
   "metadata": {},
   "source": [
    "To guide the marketing campaign to convert casual riders into annual members, we now have some data driven insights on how casual riders and annual members use Cyclistic bikes differently.\n",
    "The key findings and my recommendations for the marketing campaign have been mentioned above.\n",
    "There is a analysis behind every recommendation and all the findings and recommendations have been backedup by clear visualisations after analysing the processed data.\n",
    "The Google Data Analytics Capstone project **Cyclistic bike-share analysis case study** is now complete with all the aspects namely **ask, prepare, process, analyse, share, and act**."
   ]
  }
 ],
 "metadata": {
  "kernelspec": {
   "display_name": "Python 3 (ipykernel)",
   "language": "python",
   "name": "python3"
  },
  "language_info": {
   "codemirror_mode": {
    "name": "ipython",
    "version": 3
   },
   "file_extension": ".py",
   "mimetype": "text/x-python",
   "name": "python",
   "nbconvert_exporter": "python",
   "pygments_lexer": "ipython3",
   "version": "3.9.12"
  }
 },
 "nbformat": 4,
 "nbformat_minor": 5
}
